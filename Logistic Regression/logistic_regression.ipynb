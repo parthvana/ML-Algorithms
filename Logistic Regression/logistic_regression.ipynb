{
 "cells": [
  {
   "cell_type": "markdown",
   "metadata": {},
   "source": [
    "## Logistic Regression with SGD"
   ]
  },
  {
   "cell_type": "markdown",
   "metadata": {},
   "source": []
  },
  {
   "cell_type": "code",
   "execution_count": 1,
   "metadata": {},
   "outputs": [],
   "source": [
    "import numpy as np\n",
    "import matplotlib.pyplot as plt\n",
    "\n",
    "from math import exp, log\n",
    "import math\n",
    "import os\n",
    "import pickle\n",
    "\n",
    "from skimage import io\n",
    "from skimage.color import rgb2gray\n",
    "from skimage.feature import hog\n",
    "\n",
    "from sklearn.metrics import accuracy_score\n",
    "from sklearn.metrics import precision_recall_curve\n",
    "from sklearn.metrics import roc_curve\n",
    "from sklearn.utils import shuffle"
   ]
  },
  {
   "cell_type": "code",
   "execution_count": 2,
   "metadata": {},
   "outputs": [],
   "source": [
    "%matplotlib inline"
   ]
  },
  {
   "cell_type": "markdown",
   "metadata": {},
   "source": [
    "### load the dataset"
   ]
  },
  {
   "cell_type": "code",
   "execution_count": 3,
   "metadata": {},
   "outputs": [],
   "source": [
    "### set your image dir here\n",
    "IMAGE_DIR = \".\\data\""
   ]
  },
  {
   "cell_type": "code",
   "execution_count": 5,
   "metadata": {},
   "outputs": [],
   "source": [
    "def load_dataset(subset=\"train\"):\n",
    "    \"\"\"\n",
    "    1. subset = \"train\", \"val\", \"test\"\n",
    "    2. About the dataset: in \"train\",\"val\" subset, the first half of images are images of hands, the rest half are images of not-hand. \n",
    "    3. extract features from HoG\n",
    "    \"\"\"\n",
    "    path = os.path.join(IMAGE_DIR,subset)\n",
    "    name_list = os.listdir(path)\n",
    "    print(\"Number of images in {}-set: {}\".format(subset, len(name_list)))\n",
    "    #HoG returns 324 features\n",
    "    X = np.zeros(shape=(len(name_list), 324))\n",
    "\n",
    "    if subset == \"train\" or subset == \"val\":\n",
    "        #Make sure that we have equal number of positive and negative class images\n",
    "        assert len(name_list)%2 == 0\n",
    "        count = len(name_list)//2\n",
    "        y = np.array(count*[1] + count*[0])\n",
    "        for idx_true in range(count):\n",
    "            img_name = os.path.join(path,str(idx_true)+\".png\")\n",
    "            img = io.imread(img_name)\n",
    "            img = rgb2gray(img)\n",
    "            vec = hog(img)\n",
    "            X[idx_true, :] = vec\n",
    "        \n",
    "        for idx in range(count):\n",
    "            idx_false = idx + count\n",
    "            img_name = os.path.join(path,str(idx_false)+\".png\")\n",
    "            img = io.imread(img_name)\n",
    "            img = rgb2gray(img)\n",
    "            vec = hog(img)\n",
    "            X[idx_false, :] = vec\n",
    "        return X, y        \n",
    "    else:\n",
    "        for idx in range(len(name_list)):\n",
    "            img_name = os.path.join(path, str(idx)+\".png\")\n",
    "            img = io.imread(img_name)\n",
    "            img = rgb2gray(img)\n",
    "            vec = hog(img)\n",
    "            X[idx, :] = vec\n",
    "        return X"
   ]
  },
  {
   "cell_type": "markdown",
   "metadata": {},
   "source": [
    "### load the data"
   ]
  },
  {
   "cell_type": "code",
   "execution_count": 65,
   "metadata": {},
   "outputs": [
    {
     "name": "stdout",
     "output_type": "stream",
     "text": [
      "Number of images in train-set: 8170\n"
     ]
    },
    {
     "name": "stderr",
     "output_type": "stream",
     "text": [
      "C:\\ProgramData\\Anaconda3\\lib\\site-packages\\skimage\\feature\\_hog.py:119: skimage_deprecation: Default value of `block_norm`==`L1` is deprecated and will be changed to `L2-Hys` in v0.15\n",
      "  'be changed to `L2-Hys` in v0.15', skimage_deprecation)\n"
     ]
    },
    {
     "name": "stdout",
     "output_type": "stream",
     "text": [
      "Number of images in val-set: 2724\n",
      "Number of images in test-set: 5542\n"
     ]
    }
   ],
   "source": [
    "X_train, y_train = load_dataset(\"train\")\n",
    "X_val, y_val = load_dataset(\"val\")\n",
    "X_test = load_dataset(\"test\")"
   ]
  },
  {
   "cell_type": "markdown",
   "metadata": {},
   "source": [
    "### displaying images"
   ]
  },
  {
   "cell_type": "code",
   "execution_count": 6,
   "metadata": {},
   "outputs": [],
   "source": [
    "def display(img_path):\n",
    "    \"\"\"\n",
    "    visualize the img\n",
    "    \"\"\"\n",
    "    img = io.imread(img_path)\n",
    "    print(img_path)\n",
    "    io.imshow(img)\n",
    "    io.show()"
   ]
  },
  {
   "cell_type": "code",
   "execution_count": 1,
   "metadata": {},
   "outputs": [
    {
     "ename": "NameError",
     "evalue": "name 'IMAGE_DIR' is not defined",
     "output_type": "error",
     "traceback": [
      "\u001b[1;31m---------------------------------------------------------------------------\u001b[0m",
      "\u001b[1;31mNameError\u001b[0m                                 Traceback (most recent call last)",
      "\u001b[1;32m<ipython-input-1-9a9f08511de9>\u001b[0m in \u001b[0;36m<module>\u001b[1;34m()\u001b[0m\n\u001b[1;32m----> 1\u001b[1;33m \u001b[0mdisplay\u001b[0m\u001b[1;33m(\u001b[0m\u001b[0mIMAGE_DIR\u001b[0m\u001b[1;33m+\u001b[0m\u001b[1;34m\"train/1.png\"\u001b[0m\u001b[1;33m)\u001b[0m\u001b[1;33m\u001b[0m\u001b[0m\n\u001b[0m",
      "\u001b[1;31mNameError\u001b[0m: name 'IMAGE_DIR' is not defined"
     ]
    }
   ],
   "source": [
    "display(IMAGE_DIR+\"train/1.png\")"
   ]
  },
  {
   "cell_type": "markdown",
   "metadata": {},
   "source": [
    "### Logistic regression"
   ]
  },
  {
   "cell_type": "markdown",
   "metadata": {},
   "source": [
    "#### Main function in the class\n",
    "1. \\__init\\__() which sets the hyper parameters\n",
    "2. sigmoid()\n",
    "3. __init_param(), initializes the parameters .\n",
    "4. fit(): train the data\n",
    "5. predict_proba(): predict the probability of the sample belonging to the positive class\n",
    "6. predict(): classify the sample\n",
    "\n",
    "\n",
    "\n"
   ]
  },
  {
   "cell_type": "code",
   "execution_count": 105,
   "metadata": {},
   "outputs": [],
   "source": [
    "class LogisticRegression:\n",
    "    \"\"\"\n",
    "    Logistic Regression\n",
    "    \"\"\"\n",
    "    def __init__(self, eta0=0.1, eta1=1, m=16, max_epoch=1000, delta=0.0001):\n",
    "        \"\"\"\n",
    "        m is the batch_size\n",
    "        \"\"\"\n",
    "        self.__init = True # whether to initial the parameters\n",
    "        self.__eta0 = eta0\n",
    "        self.__eta1 = eta1\n",
    "        self.__delta = delta\n",
    "        self.__m = m\n",
    "        self.__max_epoch = max_epoch\n",
    "        self.theta_list=[]\n",
    "        \n",
    "    def sigmoid(self, x):\n",
    "        return 1.0 / (1 + np.exp(-x))\n",
    "    \n",
    "    def __init_param(self):\n",
    "        \"\"\"\n",
    "        Weights initialized using a normal distribution here: you can change the distribution.\n",
    "        \"\"\"\n",
    "        d = self.__dimension\n",
    "        self.__wt = np.random.randn(1,d)\n",
    "        self.__bias = np.random.randn()\n",
    "        return self.__wt,self.__bias\n",
    "    \n",
    "    def fit(self, X, y, X_val=None, y_val=None):\n",
    "        \"\"\"\n",
    "        Recommended input:\n",
    "        X: n x d array,\n",
    "        y: n x 1 array or list\n",
    "        \"\"\"\n",
    "        n, d = X.shape\n",
    "        self.__dimension = d\n",
    "        \n",
    "        if self.__init:\n",
    "            self.__init_param()\n",
    "        \n",
    "        ### write your code here ### \n",
    "        wbar=np.vstack((self.__wt.T,self.__bias))\n",
    "#         print(wbar.shape)\n",
    "        wbar=np.asmatrix(wbar)\n",
    "        Xbar=np.vstack((X.T,np.ones(n)))\n",
    "        Xbar=Xbar.T\n",
    "        Xbar=np.asmatrix(Xbar)\n",
    "#         print(Xbar.shape)\n",
    "        y=y.reshape((y.shape[0],1))\n",
    "        y=np.asmatrix(y)\n",
    "#         print(y.shape)\n",
    "        ltheta_new=100000 #some big value for 1st iteration\n",
    "        \n",
    "        \n",
    "        Xbar_val=np.vstack((Xbar.T,np.ones(n)))\n",
    "        ltheta_list=[]\n",
    "        for epoch in range(0,self.__max_epoch):\n",
    "            eta=self.__eta0/(self.__eta1+epoch+1)\n",
    "            Xbar, y = shuffle(Xbar, y)\n",
    "            batch_s=0\n",
    "            batch_e=self.__m+1\n",
    "            batch=np.array_split(range(0,n), int(n/self.__m))\n",
    "            for i in range(len(batch)):\n",
    "                Xbatch=Xbar[batch[i],:]\n",
    "                Ybatch=y[batch[i]]\n",
    "                temp=np.subtract(self.sigmoid(Xbatch*wbar),Ybatch)\n",
    "                gradient=np.multiply(temp,Xbatch)\n",
    "                batch_gradient=gradient.sum(axis=0) / self.__m\n",
    "                wbar=wbar - eta * batch_gradient.T\n",
    "            \n",
    "            ltheta_old=np.copy(ltheta_new)\n",
    "            pr_1 = self.sigmoid(np.matmul(Xbar,wbar))\n",
    "            pr_0 = 1-pr_1\n",
    "            ltheta_new=(-1/n)*(np.matmul(y.T, np.log(pr_1))+np.matmul((1-y.T), np.log(pr_0)))\n",
    "#             ltheta_new=(-1/n)*np.sum(np.multiply(y.T,Xbar*wbar)-log(self.sigmoid(Xbar*wbar)))\n",
    "            ltheta_list.append(np.asscalar(ltheta_new))\n",
    "#             if ltheta_new >(1-self.__delta)*ltheta_old:\n",
    "#                 break\n",
    "            self.theta_list.append(wbar)\n",
    "        self.__wt=wbar[0:d]\n",
    "        self.__bias=wbar[d]\n",
    "            \n",
    "\n",
    "        ############################\n",
    "#         return ltheta_list\n",
    "        return wbar\n",
    "    \n",
    "    def predict_proba(self, X):\n",
    "        \"\"\"\n",
    "        predict the probility of the sample\n",
    "        You can refer to my code below\n",
    "        \"\"\"\n",
    "#         return a vector containing the probability values of the samples belonging to the positive class\n",
    "        X=np.vstack((X.T,np.ones(n)))\n",
    "        X=X.T\n",
    "        wbar=np.vstack((self.__wt.T,self.__bias))\n",
    "        return self.sigmoid(np.matmul(X,wbar))\n",
    "         \n",
    "    def predict(self, X):\n",
    "              \n",
    "        \"\"\"\n",
    "        Classify the sample\n",
    "        \"\"\"\n",
    "#         return self.predict_proba(X) >= 0.5 # attention: this will give result in bool, you need to convert it to int for submission. \n",
    "       \n",
    "    \n",
    "        return int(self.predict_proba(X) >= 0.5)\n",
    "    def get_param(self):\n",
    "        \"\"\"\n",
    "        output:\n",
    "            parameters: wt(1*d array), b(scalar)\n",
    "        \"\"\"\n",
    "        return [self.__wt, self.__bias]\n",
    "    \n",
    "    def save_model(self, save_file):\n",
    "        \"\"\"\n",
    "        save model to .pkl file\n",
    "        \"\"\"\n",
    "        with open(save_file,\"wb\") as file:\n",
    "            pickle.dump([self.__wt, self.__bias],file)\n",
    "\n",
    "    def load_model(self, load_file):\n",
    "        \"\"\"\n",
    "        load model from .pkl file\n",
    "        \"\"\"\n",
    "        with open(load_file,\"rb\") as file:\n",
    "            param = pickle.load(file)\n",
    "        self.__wt = param[0]\n",
    "        self.__bias = param[1]\n",
    "        self.__init = False\n",
    "        return self.__wt, self.__bias"
   ]
  },
  {
   "cell_type": "markdown",
   "metadata": {},
   "source": [
    "## Question 2.3"
   ]
  },
  {
   "cell_type": "markdown",
   "metadata": {
    "scrolled": true
   },
   "source": [
    "### 1. Baseline Model"
   ]
  },
  {
   "cell_type": "code",
   "execution_count": 13,
   "metadata": {
    "scrolled": true
   },
   "outputs": [
    {
     "data": {
      "text/plain": [
       "322"
      ]
     },
     "execution_count": 13,
     "metadata": {},
     "output_type": "execute_result"
    }
   ],
   "source": [
    "LR = LogisticRegression()\n",
    "p=LR.fit(X_train,y_train)\n",
    "len(p)"
   ]
  },
  {
   "cell_type": "markdown",
   "metadata": {},
   "source": [
    "(a) Number of epochs till termination = 322"
   ]
  },
  {
   "cell_type": "code",
   "execution_count": 82,
   "metadata": {},
   "outputs": [
    {
     "data": {
      "image/png": "[encoded data removed]",
      "text/plain": [
       "<matplotlib.figure.Figure at 0x10537748>"
      ]
     },
     "metadata": {},
     "output_type": "display_data"
    }
   ],
   "source": [
    "# (b) Plot L(theta) vs num_epochs\n",
    "import matplotlib.pyplot as plt\n",
    "LR = LogisticRegression()\n",
    "ltheta=LR.fit(X_train,y_train)\n",
    "plt.plot(range(1,len(ltheta)+1),ltheta)\n",
    "plt.ylabel('L(Theta)')\n",
    "plt.xlabel('epoch')\n",
    "plt.show()\n"
   ]
  },
  {
   "cell_type": "markdown",
   "metadata": {},
   "source": [
    "(c) Final value of L($\\theta$) after optimization = 0.507"
   ]
  },
  {
   "cell_type": "markdown",
   "metadata": {},
   "source": [
    "### 2. Experimenting with ($\\eta_0$,$\\eta_1$)"
   ]
  },
  {
   "cell_type": "code",
   "execution_count": 18,
   "metadata": {},
   "outputs": [
    {
     "name": "stdout",
     "output_type": "stream",
     "text": [
      "eta0  0.0001  eta1  0.0001   epoch   24   L(theta)  0.713119250027102\n",
      "eta0  0.0001  eta1  0.001   epoch   71   L(theta)  1.1793481073892245\n",
      "eta0  0.0001  eta1  0.01   epoch   39   L(theta)  0.8636616234577169\n",
      "eta0  0.0001  eta1  0.1   epoch   16   L(theta)  0.7489252301032864\n",
      "eta0  0.0001  eta1  1   epoch   33   L(theta)  0.7628704637859299\n",
      "eta0  0.0001  eta1  10   epoch   2   L(theta)  0.7199454577064355\n",
      "eta0  0.0001  eta1  100   epoch   2   L(theta)  0.804198163500133\n",
      "eta0  0.0001  eta1  1000   epoch   2   L(theta)  0.8332810489157819\n",
      "eta0  0.001  eta1  0.0001   epoch   154   L(theta)  0.7779573429413065\n",
      "eta0  0.001  eta1  0.001   epoch   274   L(theta)  0.8386267792472157\n",
      "eta0  0.001  eta1  0.01   epoch   9   L(theta)  0.6761866550735257\n",
      "eta0  0.001  eta1  0.1   epoch   11   L(theta)  0.7223126598471814\n",
      "eta0  0.001  eta1  1   epoch   8   L(theta)  0.6896135274264242\n",
      "eta0  0.001  eta1  10   epoch   450   L(theta)  0.9174456255445034\n",
      "eta0  0.001  eta1  100   epoch   586   L(theta)  1.6403760528612286\n",
      "eta0  0.001  eta1  1000   epoch   2   L(theta)  0.8129936130141561\n",
      "eta0  0.01  eta1  0.0001   epoch   85   L(theta)  0.689991452385885\n",
      "eta0  0.01  eta1  0.001   epoch   74   L(theta)  0.648750230548706\n",
      "eta0  0.01  eta1  0.01   epoch   83   L(theta)  0.682797595017499\n",
      "eta0  0.01  eta1  0.1   epoch   93   L(theta)  0.6871777881547754\n",
      "eta0  0.01  eta1  1   epoch   78   L(theta)  0.6492381625263435\n",
      "eta0  0.01  eta1  10   epoch   93   L(theta)  0.7212107815004241\n",
      "eta0  0.01  eta1  100   epoch   348   L(theta)  0.7357786208849033\n",
      "eta0  0.01  eta1  1000   epoch   1000   L(theta)  0.7448007660415928\n",
      "eta0  0.1  eta1  0.0001   epoch   310   L(theta)  0.4912788078471891\n",
      "eta0  0.1  eta1  0.001   epoch   314   L(theta)  0.48936463145973574\n",
      "eta0  0.1  eta1  0.01   epoch   308   L(theta)  0.493356703680043\n",
      "eta0  0.1  eta1  0.1   epoch   339   L(theta)  0.5037443391672529\n",
      "eta0  0.1  eta1  1   epoch   346   L(theta)  0.5310358478239992\n",
      "eta0  0.1  eta1  10   epoch   462   L(theta)  0.5583856917082908\n",
      "eta0  0.1  eta1  100   epoch   657   L(theta)  0.6132264566140886\n",
      "eta0  0.1  eta1  1000   epoch   273   L(theta)  0.6788996319809331\n",
      "eta0  1  eta1  0.0001   epoch   257   L(theta)  0.32370110278616826\n",
      "eta0  1  eta1  0.001   epoch   257   L(theta)  0.32509809240316623\n",
      "eta0  1  eta1  0.01   epoch   248   L(theta)  0.32226999949776464\n",
      "eta0  1  eta1  0.1   epoch   253   L(theta)  0.32308019899618245\n",
      "eta0  1  eta1  1   epoch   301   L(theta)  0.32966033002106804\n",
      "eta0  1  eta1  10   epoch   454   L(theta)  0.3486392524348254\n",
      "eta0  1  eta1  100   epoch   786   L(theta)  0.38319603513326606\n",
      "eta0  1  eta1  1000   epoch   1000   L(theta)  0.5234776004467687\n",
      "eta0  10  eta1  0.0001   epoch   4   L(theta)  0.2890614703638715\n",
      "eta0  10  eta1  0.001   epoch   5   L(theta)  0.28034966975127223\n",
      "eta0  10  eta1  0.01   epoch   5   L(theta)  0.2768612743524423\n",
      "eta0  10  eta1  0.1   epoch   4   L(theta)  0.2875323767427232\n",
      "eta0  10  eta1  1   epoch   13   L(theta)  0.2793725524853274\n",
      "eta0  10  eta1  10   epoch   10   L(theta)  0.32387192525900793\n",
      "eta0  10  eta1  100   epoch   170   L(theta)  0.3011306659728339\n",
      "eta0  10  eta1  1000   epoch   1000   L(theta)  0.31586452211375377\n"
     ]
    },
    {
     "name": "stderr",
     "output_type": "stream",
     "text": [
      "C:\\ProgramData\\Anaconda3\\lib\\site-packages\\ipykernel_launcher.py:74: RuntimeWarning: divide by zero encountered in log\n",
      "C:\\ProgramData\\Anaconda3\\lib\\site-packages\\ipykernel_launcher.py:77: RuntimeWarning: invalid value encountered in greater\n"
     ]
    },
    {
     "name": "stdout",
     "output_type": "stream",
     "text": [
      "eta0  100  eta1  0.0001   epoch   19   L(theta)  0.2789684282465971\n",
      "eta0  100  eta1  0.001   epoch   4   L(theta)  0.5255651913726863\n",
      "eta0  100  eta1  0.01   epoch   11   L(theta)  0.31341453250114826\n",
      "eta0  100  eta1  0.1   epoch   5   L(theta)  0.42696581836669845\n",
      "eta0  100  eta1  1   epoch   4   L(theta)  0.3615367208480424\n",
      "eta0  100  eta1  10   epoch   7   L(theta)  0.2858151013647442\n",
      "eta0  100  eta1  100   epoch   11   L(theta)  0.30698086401432867\n",
      "eta0  100  eta1  1000   epoch   90   L(theta)  0.3061311120709162\n"
     ]
    },
    {
     "name": "stderr",
     "output_type": "stream",
     "text": [
      "C:\\ProgramData\\Anaconda3\\lib\\site-packages\\ipykernel_launcher.py:18: RuntimeWarning: overflow encountered in exp\n"
     ]
    },
    {
     "name": "stdout",
     "output_type": "stream",
     "text": [
      "eta0  1000  eta1  0.0001   epoch   99   L(theta)  0.3862654195994911\n",
      "eta0  1000  eta1  0.001   epoch   100   L(theta)  0.39717749838436894\n",
      "eta0  1000  eta1  0.01   epoch   90   L(theta)  0.4777092783089372\n",
      "eta0  1000  eta1  0.1   epoch   65   L(theta)  0.4243701087678288\n",
      "eta0  1000  eta1  1   epoch   30   L(theta)  0.49841602850006\n",
      "eta0  1000  eta1  10   epoch   11   L(theta)  0.4320596978996049\n",
      "eta0  1000  eta1  100   epoch   3   L(theta)  0.32923353992783694\n",
      "eta0  1000  eta1  1000   epoch   10   L(theta)  0.3063089034274004\n"
     ]
    }
   ],
   "source": [
    "# Experimentation code goes here\n",
    "eta0=[0.0001,0.001,0.01,0.1,1,10,100,1000]\n",
    "eta1=[0.0001,0.001,0.01,0.1,1,10,100,1000]\n",
    "\n",
    "for i in range(len(eta0)):\n",
    "    for j in range(len(eta1)):\n",
    "        LR = LogisticRegression(eta0[i],eta1[j])\n",
    "        ltheta=LR.fit(X_train,y_train)\n",
    "        print(\"eta0 \",eta0[i],\" eta1 \",eta1[j],\"  epoch  \",len(ltheta),\"  L(theta) \",ltheta[-1])\n",
    "        \n",
    "\n"
   ]
  },
  {
   "cell_type": "markdown",
   "metadata": {},
   "source": [
    "(a) Best value for, $\\eta_0$ = 100 , $\\eta_1$ = 0.0001\n",
    "\n",
    "Number of epochs for training = 19\n",
    "\n",
    "Final value of L($\\theta$) = 0.2789"
   ]
  },
  {
   "cell_type": "code",
   "execution_count": 84,
   "metadata": {},
   "outputs": [
    {
     "name": "stderr",
     "output_type": "stream",
     "text": [
      "C:\\ProgramData\\Anaconda3\\lib\\site-packages\\ipykernel_launcher.py:74: RuntimeWarning: divide by zero encountered in log\n",
      "C:\\ProgramData\\Anaconda3\\lib\\site-packages\\ipykernel_launcher.py:77: RuntimeWarning: invalid value encountered in greater\n"
     ]
    },
    {
     "data": {
      "image/png": "[encoded data removed]",
      "text/plain": [
       "<matplotlib.figure.Figure at 0xbe1d470>"
      ]
     },
     "metadata": {},
     "output_type": "display_data"
    }
   ],
   "source": [
    "# (b) For best (eta_0, eta_1) plot L(theta) vs num_epochs\n",
    "import matplotlib.pyplot as plt\n",
    "LR = LogisticRegression(100,0.0001)\n",
    "ltheta=LR.fit(X_train,y_train)\n",
    "plt.plot(range(1,len(ltheta)+1),ltheta)\n",
    "plt.ylabel('L(Theta)')\n",
    "plt.show()"
   ]
  },
  {
   "cell_type": "markdown",
   "metadata": {},
   "source": [
    "### 3. Evaluating on validation set"
   ]
  },
  {
   "cell_type": "code",
   "execution_count": 20,
   "metadata": {},
   "outputs": [
    {
     "data": {
      "image/png": "[encoded data removed]",
      "text/plain": [
       "<matplotlib.figure.Figure at 0xc5115c0>"
      ]
     },
     "metadata": {},
     "output_type": "display_data"
    }
   ],
   "source": [
    "# (a) Plot L(theta) vs num_epochs for both training and validation set on the same figure\n",
    "LR = LogisticRegression()\n",
    "ltheta_train = LR.fit(X_train,y_train)\n",
    "ltheta_val=[]\n",
    "n, d = X_val.shape\n",
    "Xbar=np.vstack((X_val.T,np.ones(n)))\n",
    "for i in range(len(LR.theta_list)):\n",
    "    pr_1 = LR.sigmoid(np.matmul(Xbar.T,LR.theta_list[i]))\n",
    "    pr_0 = 1-pr_1\n",
    "    ltheta_new=(-1/n)*(np.matmul(y_val.T, np.log(pr_1))+np.matmul((1-y_val.T), np.log(pr_0)))\n",
    "    ltheta_val.append(np.asscalar(ltheta_new))\n",
    "plt.plot(range(1,len(ltheta_train)+1),ltheta_train,color='red',label='train')\n",
    "plt.plot(range(1,len(ltheta_val)+1),ltheta_val,color='blue',label='validation')\n",
    "plt.ylabel('L(Theta)')\n",
    "plt.legend()\n",
    "plt.show()"
   ]
  },
  {
   "cell_type": "code",
   "execution_count": 103,
   "metadata": {},
   "outputs": [
    {
     "data": {
      "image/png": "[encoded data removed]",
      "text/plain": [
       "<matplotlib.figure.Figure at 0xb994eb8>"
      ]
     },
     "metadata": {},
     "output_type": "display_data"
    }
   ],
   "source": [
    "# (b) Plot Accuracy vs num_epochs for both training and validation set on the same figure\n",
    "from sklearn.metrics import accuracy_score\n",
    "LR = LogisticRegression()\n",
    "ltheta_train = LR.fit(X_train,y_train)\n",
    "n_val= X_val.shape[0]\n",
    "n_train=X_train.shape[0]\n",
    "Xbar_val=np.vstack((X_val.T,np.ones(n_val)))\n",
    "Xbar_train=np.vstack((X_train.T,np.ones(n_train)))\n",
    "Xbar_val=Xbar_val.T\n",
    "Xbar_train=Xbar_train.T\n",
    "Acc_train=[]\n",
    "Acc_val=[]\n",
    "for i in range(len(LR.theta_list)):\n",
    "    Pred_train=(LR.sigmoid(np.matmul(Xbar_train,LR.theta_list[i]))>=0.5).astype(int)\n",
    "    Pred_val_prob=LR.sigmoid(np.matmul(Xbar_val,LR.theta_list[i]))\n",
    "    Pred_val=(LR.sigmoid(np.matmul(Xbar_val,LR.theta_list[i]))>=0.5).astype(int)\n",
    "    Acc_train.append(accuracy_score(Pred_train,y_train))\n",
    "    Acc_val.append(accuracy_score(Pred_val,y_val))\n",
    "    \n",
    "plt.plot(range(1,len(Acc_train)+1),Acc_train,color='red',label='train')\n",
    "plt.plot(range(1,len(Acc_val)+1),Acc_val,color='blue',label='validation')\n",
    "plt.ylabel('Accuracy')\n",
    "plt.legend()\n",
    "plt.show()"
   ]
  },
  {
   "cell_type": "markdown",
   "metadata": {},
   "source": [
    "### 4. ROC and Precision-Recall curves"
   ]
  },
  {
   "cell_type": "code",
   "execution_count": 102,
   "metadata": {},
   "outputs": [
    {
     "data": {
      "image/png": "[encoded data removed]",
      "text/plain": [
       "<matplotlib.figure.Figure at 0xc000390>"
      ]
     },
     "metadata": {},
     "output_type": "display_data"
    },
    {
     "data": {
      "text/plain": [
       "0.8822637091087865"
      ]
     },
     "execution_count": 102,
     "metadata": {},
     "output_type": "execute_result"
    }
   ],
   "source": [
    "#(a) Plot ROC curve on validation data\n",
    "from sklearn.metrics import roc_curve\n",
    "from sklearn.metrics import auc\n",
    "fpr, tpr,threshold = roc_curve(y_val, Pred_val_prob)\n",
    "plt.plot(fpr,tpr)\n",
    "plt.plot([0,1],[0,1],'r--')\n",
    "plt.ylabel('True positive rate')\n",
    "plt.xlabel('False positive rate')\n",
    "plt.show()\n",
    "auc(fpr,tpr)"
   ]
  },
  {
   "cell_type": "markdown",
   "metadata": {},
   "source": [
    "Area under curve = 0.89"
   ]
  },
  {
   "cell_type": "code",
   "execution_count": 104,
   "metadata": {},
   "outputs": [
    {
     "data": {
      "text/plain": [
       "0.8642646278529521"
      ]
     },
     "execution_count": 104,
     "metadata": {},
     "output_type": "execute_result"
    },
    {
     "data": {
      "image/png": "[encoded data removed]",
      "text/plain": [
       "<matplotlib.figure.Figure at 0xc081dd8>"
      ]
     },
     "metadata": {},
     "output_type": "display_data"
    }
   ],
   "source": [
    "#(a) Plot Precision-Recall curve on validation data\n",
    "from sklearn.metrics import auc\n",
    "from sklearn.metrics import average_precision_score\n",
    "precision,recall,threshold=precision_recall_curve(y_val,Pred_val_prob)\n",
    "plt.plot(recall,precision)\n",
    "plt.ylabel('Precision')\n",
    "plt.xlabel('Recall')\n",
    "average_precision_score(y_val,Pred_val_prob)"
   ]
  },
  {
   "cell_type": "code",
   "execution_count": null,
   "metadata": {
    "collapsed": true
   },
   "outputs": [],
   "source": [
    "Average Precision = 0.86"
   ]
  },
  {
   "cell_type": "markdown",
   "metadata": {},
   "source": [
    "## Question 2.4"
   ]
  },
  {
   "cell_type": "markdown",
   "metadata": {},
   "source": [
    "### 1. Submission"
   ]
  },
  {
   "cell_type": "code",
   "execution_count": 73,
   "metadata": {},
   "outputs": [],
   "source": [
    "import pandas as pd\n",
    "def submission(y_pred):\n",
    "    \"\"\"\n",
    "    generate the submission.csv for kaggle\n",
    "    input args:\n",
    "        y_pred: 5542x1 array or list contains 5542 elements\n",
    "        \n",
    "    \"\"\"\n",
    "    \n",
    "    save_file = pd.DataFrame(columns=[\"Id\",\"Class\"])\n",
    "    id = np.array([idx for idx in range(5542)])\n",
    "    save_file[\"Id\"] = id\n",
    "    save_file[\"Class\"]= y_pred\n",
    "    save_file.to_csv(\"submission.csv\",index=0)       "
   ]
  },
  {
   "cell_type": "markdown",
   "metadata": {},
   "source": [
    "#### Generate the submission.csv"
   ]
  },
  {
   "cell_type": "code",
   "execution_count": 106,
   "metadata": {},
   "outputs": [],
   "source": [
    "# code goes here\n",
    "y_train=y_train.reshape((y_train.shape[0],1))\n",
    "y_val=y_val.reshape((y_val.shape[0],1))\n",
    "Xbar=np.vstack((X_train,X_val))\n",
    "Ybar=np.vstack((y_train,y_val))\n",
    "LR = LogisticRegression(eta0=50, eta1=4, m=16, max_epoch=1000, delta=0.0001)\n",
    "wbar = LR.fit(Xbar,Ybar)\n",
    "# wbar=np.vstack((LR.__wt,LR.__bias))\n",
    "Xtbar=np.vstack((X_test.T,np.ones(X_test.shape[0])))\n",
    "Pred_val=(LR.sigmoid(np.matmul(Xtbar.T,wbar))>=0.5).astype(int)\n",
    "submission(Pred_val)"
   ]
  },
  {
   "cell_type": "markdown",
   "metadata": {},
   "source": []
  },
  {
   "cell_type": "code",
   "execution_count": null,
   "metadata": {
    "scrolled": true
   },
   "outputs": [],
   "source": []
  },
  {
   "cell_type": "code",
   "execution_count": null,
   "metadata": {},
   "outputs": [],
   "source": []
  }
 ],
 "metadata": {
  "kernelspec": {
   "display_name": "Python 3",
   "language": "python",
   "name": "python3"
  },
  "language_info": {
   "codemirror_mode": {
    "name": "ipython",
    "version": 3
   },
   "file_extension": ".py",
   "mimetype": "text/x-python",
   "name": "python",
   "nbconvert_exporter": "python",
   "pygments_lexer": "ipython3",
   "version": "3.6.4"
  }
 },
 "nbformat": 4,
 "nbformat_minor": 2
}
